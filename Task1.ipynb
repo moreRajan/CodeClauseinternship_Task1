{
 "cells": [
  {
   "cell_type": "code",
   "execution_count": 1,
   "id": "502be1f9-1f6f-48b4-a998-092ec7a3b404",
   "metadata": {},
   "outputs": [
    {
     "name": "stdin",
     "output_type": "stream",
     "text": [
      "Enter the length of password to be generated: 5\n"
     ]
    },
    {
     "name": "stdout",
     "output_type": "stream",
     "text": [
      "Choose the charcter set : 1.Digits, 2.Letters, 3.Special Characters, 4.Exit\n"
     ]
    },
    {
     "name": "stdin",
     "output_type": "stream",
     "text": [
      "pick a number: 1\n",
      "pick a number: 3\n",
      "pick a number: 2\n",
      "pick a number: 1\n",
      "pick a number: 4\n"
     ]
    },
    {
     "name": "stdout",
     "output_type": "stream",
     "text": [
      "The random password isZrYGS\n"
     ]
    }
   ],
   "source": [
    "import string\n",
    "\n",
    "import random\n",
    "\n",
    "length=int(input(\"Enter the length of password to be generated:\"))\n",
    "\n",
    "print(\"Choose the charcter set : 1.Digits, 2.Letters, 3.Special Characters, 4.Exit\")\n",
    "\n",
    "character_list=\"\"\n",
    "\n",
    "\n",
    "\n",
    "\n",
    "while(True):\n",
    "    choice=int(input(\"pick a number:\"))\n",
    "    if(choice==1):\n",
    "        character_list+=string.ascii_letters\n",
    "    elif(choice==2):\n",
    "        character_list+=string.digits\n",
    "    elif(choice==3):\n",
    "        character_list+=string.punctuation\n",
    "    elif(choice==4):\n",
    "        break\n",
    "    else:\n",
    "        print(\"Entre the valid option\")\n",
    "        \n",
    "password=[]\n",
    "for i in range(length):\n",
    "    #picking random character from our character list\n",
    "    randomchar=random.choice(character_list)\n",
    "    #appending\n",
    "    password.append(randomchar)\n",
    "    \n",
    "print(\"The random password is\"+\"\".join(password))\n",
    "        "
   ]
  },
  {
   "cell_type": "code",
   "execution_count": null,
   "id": "127cd039-e6e0-4e16-9b13-af8dcfa024ae",
   "metadata": {},
   "outputs": [],
   "source": [
    "\n"
   ]
  },
  {
   "cell_type": "code",
   "execution_count": null,
   "id": "f0d21e82-45e8-41f0-a117-bb6616a36531",
   "metadata": {},
   "outputs": [],
   "source": []
  }
 ],
 "metadata": {
  "kernelspec": {
   "display_name": "Python 3 (ipykernel)",
   "language": "python",
   "name": "python3"
  },
  "language_info": {
   "codemirror_mode": {
    "name": "ipython",
    "version": 3
   },
   "file_extension": ".py",
   "mimetype": "text/x-python",
   "name": "python",
   "nbconvert_exporter": "python",
   "pygments_lexer": "ipython3",
   "version": "3.10.8"
  }
 },
 "nbformat": 4,
 "nbformat_minor": 5
}
